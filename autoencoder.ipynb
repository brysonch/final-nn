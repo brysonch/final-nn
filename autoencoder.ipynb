{
 "cells": [
  {
   "cell_type": "markdown",
   "id": "a53452d8",
   "metadata": {},
   "source": [
    "Here we train and test an autoencoder on digits data from scikit-learn. We first import the necessary packages and digit data."
   ]
  },
  {
   "cell_type": "code",
   "execution_count": 1,
   "id": "0f568c16",
   "metadata": {},
   "outputs": [],
   "source": [
    "import numpy as np\n",
    "import matplotlib.pyplot as plt\n",
    "from nn import io, nn, preprocess\n",
    "from sklearn.model_selection import train_test_split\n",
    "from sklearn.datasets import load_digits"
   ]
  },
  {
   "cell_type": "markdown",
   "id": "f7196421",
   "metadata": {},
   "source": [
    "Here we add commands to autoreload the imported packages, including changes to nn."
   ]
  },
  {
   "cell_type": "code",
   "execution_count": 2,
   "id": "407c7391",
   "metadata": {},
   "outputs": [],
   "source": [
    "%load_ext autoreload\n",
    "%autoreload 2"
   ]
  },
  {
   "cell_type": "markdown",
   "id": "0f0490ec",
   "metadata": {},
   "source": [
    "Here we load the digits data."
   ]
  },
  {
   "cell_type": "code",
   "execution_count": 3,
   "id": "606b285e",
   "metadata": {},
   "outputs": [
    {
     "name": "stdout",
     "output_type": "stream",
     "text": [
      "digit data:  [[ 0.  0.  5. ...  0.  0.  0.]\n",
      " [ 0.  0.  0. ... 10.  0.  0.]\n",
      " [ 0.  0.  0. ... 16.  9.  0.]\n",
      " ...\n",
      " [ 0.  0.  1. ...  6.  0.  0.]\n",
      " [ 0.  0.  2. ... 12.  0.  0.]\n",
      " [ 0.  0. 10. ... 12.  1.  0.]]\n"
     ]
    }
   ],
   "source": [
    "digits = load_digits()\n",
    "print(\"digit data: \", digits['data'])"
   ]
  },
  {
   "cell_type": "markdown",
   "id": "6e2c0cf3",
   "metadata": {},
   "source": [
    "We can then do a train/test split of the digits data 0.8/0.2."
   ]
  },
  {
   "cell_type": "code",
   "execution_count": 4,
   "id": "237a5661",
   "metadata": {},
   "outputs": [
    {
     "name": "stdout",
     "output_type": "stream",
     "text": [
      "train shape:  (1437, 64)\n",
      "test shape:  (360, 64)\n",
      "ytrain shape:  (1437,)\n",
      "ytest shape:  (360,)\n"
     ]
    }
   ],
   "source": [
    "X_train, X_test, y_train, y_test = train_test_split(digits['data'], digits['target'], test_size=0.2, random_state=0)\n",
    "print(\"train shape: \", X_train.shape)\n",
    "print(\"test shape: \", X_test.shape)\n",
    "print(\"ytrain shape: \", y_train.shape)\n",
    "print(\"ytest shape: \", y_test.shape)"
   ]
  },
  {
   "cell_type": "markdown",
   "id": "a3c73838",
   "metadata": {},
   "source": [
    "Now we can train a 64x16x64 instance of our autoencoder with a grid search of hyperparameters. We vary the learning rate, batch size, and epoch count for training. We use MSE instead of BCE as the data is not non-binary. We also used the sigmoid activation function, as this performed better than the relu function."
   ]
  },
  {
   "cell_type": "code",
   "execution_count": 6,
   "id": "e2e613c1",
   "metadata": {},
   "outputs": [
    {
     "name": "stdout",
     "output_type": "stream",
     "text": [
      "training with the following hyperparameters:  lr=0.1 batch=10 epochs=50\n",
      "training with the following hyperparameters:  lr=0.1 batch=10 epochs=100\n",
      "training with the following hyperparameters:  lr=0.1 batch=10 epochs=150\n",
      "training with the following hyperparameters:  lr=0.1 batch=10 epochs=200\n",
      "training with the following hyperparameters:  lr=0.1 batch=10 epochs=250\n",
      "training with the following hyperparameters:  lr=0.1 batch=50 epochs=50\n",
      "training with the following hyperparameters:  lr=0.1 batch=50 epochs=100\n",
      "training with the following hyperparameters:  lr=0.1 batch=50 epochs=150\n",
      "training with the following hyperparameters:  lr=0.1 batch=50 epochs=200\n",
      "training with the following hyperparameters:  lr=0.1 batch=50 epochs=250\n",
      "training with the following hyperparameters:  lr=0.1 batch=100 epochs=50\n",
      "training with the following hyperparameters:  lr=0.1 batch=100 epochs=100\n",
      "training with the following hyperparameters:  lr=0.1 batch=100 epochs=150\n",
      "training with the following hyperparameters:  lr=0.1 batch=100 epochs=200\n",
      "training with the following hyperparameters:  lr=0.1 batch=100 epochs=250\n",
      "training with the following hyperparameters:  lr=0.1 batch=250 epochs=50\n",
      "training with the following hyperparameters:  lr=0.1 batch=250 epochs=100\n",
      "training with the following hyperparameters:  lr=0.1 batch=250 epochs=150\n",
      "training with the following hyperparameters:  lr=0.1 batch=250 epochs=200\n",
      "training with the following hyperparameters:  lr=0.1 batch=250 epochs=250\n",
      "training with the following hyperparameters:  lr=0.01 batch=10 epochs=50\n",
      "training with the following hyperparameters:  lr=0.01 batch=10 epochs=100\n",
      "training with the following hyperparameters:  lr=0.01 batch=10 epochs=150\n",
      "training with the following hyperparameters:  lr=0.01 batch=10 epochs=200\n",
      "training with the following hyperparameters:  lr=0.01 batch=10 epochs=250\n",
      "training with the following hyperparameters:  lr=0.01 batch=50 epochs=50\n",
      "training with the following hyperparameters:  lr=0.01 batch=50 epochs=100\n",
      "training with the following hyperparameters:  lr=0.01 batch=50 epochs=150\n",
      "training with the following hyperparameters:  lr=0.01 batch=50 epochs=200\n",
      "training with the following hyperparameters:  lr=0.01 batch=50 epochs=250\n",
      "training with the following hyperparameters:  lr=0.01 batch=100 epochs=50\n",
      "training with the following hyperparameters:  lr=0.01 batch=100 epochs=100\n",
      "training with the following hyperparameters:  lr=0.01 batch=100 epochs=150\n",
      "training with the following hyperparameters:  lr=0.01 batch=100 epochs=200\n",
      "training with the following hyperparameters:  lr=0.01 batch=100 epochs=250\n",
      "training with the following hyperparameters:  lr=0.01 batch=250 epochs=50\n",
      "training with the following hyperparameters:  lr=0.01 batch=250 epochs=100\n",
      "training with the following hyperparameters:  lr=0.01 batch=250 epochs=150\n",
      "training with the following hyperparameters:  lr=0.01 batch=250 epochs=200\n",
      "training with the following hyperparameters:  lr=0.01 batch=250 epochs=250\n",
      "training with the following hyperparameters:  lr=0.001 batch=10 epochs=50\n",
      "training with the following hyperparameters:  lr=0.001 batch=10 epochs=100\n",
      "training with the following hyperparameters:  lr=0.001 batch=10 epochs=150\n",
      "training with the following hyperparameters:  lr=0.001 batch=10 epochs=200\n",
      "training with the following hyperparameters:  lr=0.001 batch=10 epochs=250\n",
      "training with the following hyperparameters:  lr=0.001 batch=50 epochs=50\n",
      "training with the following hyperparameters:  lr=0.001 batch=50 epochs=100\n",
      "training with the following hyperparameters:  lr=0.001 batch=50 epochs=150\n",
      "training with the following hyperparameters:  lr=0.001 batch=50 epochs=200\n",
      "training with the following hyperparameters:  lr=0.001 batch=50 epochs=250\n",
      "training with the following hyperparameters:  lr=0.001 batch=100 epochs=50\n",
      "training with the following hyperparameters:  lr=0.001 batch=100 epochs=100\n",
      "training with the following hyperparameters:  lr=0.001 batch=100 epochs=150\n",
      "training with the following hyperparameters:  lr=0.001 batch=100 epochs=200\n",
      "training with the following hyperparameters:  lr=0.001 batch=100 epochs=250\n",
      "training with the following hyperparameters:  lr=0.001 batch=250 epochs=50\n",
      "training with the following hyperparameters:  lr=0.001 batch=250 epochs=100\n",
      "training with the following hyperparameters:  lr=0.001 batch=250 epochs=150\n",
      "training with the following hyperparameters:  lr=0.001 batch=250 epochs=200\n",
      "training with the following hyperparameters:  lr=0.001 batch=250 epochs=250\n",
      "training with the following hyperparameters:  lr=0.0001 batch=10 epochs=50\n",
      "training with the following hyperparameters:  lr=0.0001 batch=10 epochs=100\n",
      "training with the following hyperparameters:  lr=0.0001 batch=10 epochs=150\n",
      "training with the following hyperparameters:  lr=0.0001 batch=10 epochs=200\n",
      "training with the following hyperparameters:  lr=0.0001 batch=10 epochs=250\n",
      "training with the following hyperparameters:  lr=0.0001 batch=50 epochs=50\n",
      "training with the following hyperparameters:  lr=0.0001 batch=50 epochs=100\n",
      "training with the following hyperparameters:  lr=0.0001 batch=50 epochs=150\n",
      "training with the following hyperparameters:  lr=0.0001 batch=50 epochs=200\n",
      "training with the following hyperparameters:  lr=0.0001 batch=50 epochs=250\n",
      "training with the following hyperparameters:  lr=0.0001 batch=100 epochs=50\n",
      "training with the following hyperparameters:  lr=0.0001 batch=100 epochs=100\n",
      "training with the following hyperparameters:  lr=0.0001 batch=100 epochs=150\n",
      "training with the following hyperparameters:  lr=0.0001 batch=100 epochs=200\n",
      "training with the following hyperparameters:  lr=0.0001 batch=100 epochs=250\n",
      "training with the following hyperparameters:  lr=0.0001 batch=250 epochs=50\n",
      "training with the following hyperparameters:  lr=0.0001 batch=250 epochs=100\n",
      "training with the following hyperparameters:  lr=0.0001 batch=250 epochs=150\n",
      "training with the following hyperparameters:  lr=0.0001 batch=250 epochs=200\n",
      "training with the following hyperparameters:  lr=0.0001 batch=250 epochs=250\n",
      "optimal hyperparameters for training are:  ('lr=0.1', 'batch size=250', 'epochs=50')\n"
     ]
    }
   ],
   "source": [
    "nn_arch = [{'input_dim': 64, 'output_dim': 16, 'activation': 'sigmoid'}, {'input_dim': 16, 'output_dim': 64, 'activation': 'sigmoid'}]\n",
    "lrs = np.logspace(-1.0, -4.0, num=4)\n",
    "seed = 42\n",
    "batch_sizes = np.array([10, 50, 100, 250])\n",
    "epochss = np.linspace(50, 250, 5, dtype=int)\n",
    "loss_function = 'mse'\n",
    "hyperparams = {}\n",
    "\n",
    "for lr in lrs:\n",
    "    for batch_size in batch_sizes:\n",
    "        for epochs in epochss:\n",
    "            print(\"training with the following hyperparameters: \", \"lr=\" + str(lr) + \" \" + \"batch=\" + str(batch_size) + \" \" + \"epochs=\" + str(epochs))\n",
    "            autoencoder = nn.NeuralNetwork(nn_arch=nn_arch, lr=lr, seed=seed, batch_size=batch_size, epochs=epochs, loss_function=loss_function)\n",
    "            _, loss_test = autoencoder.fit(X_train, y_train, X_test, y_test)\n",
    "            hyperparams[('lr=' + str(lr), 'batch size=' + str(batch_size), 'epochs=' + str(epochs))] = loss_test[-1]\n",
    "\n",
    "print(\"optimal hyperparameters for training are: \", min(hyperparams, key=hyperparams.get))\n"
   ]
  },
  {
   "cell_type": "markdown",
   "id": "304b100e",
   "metadata": {},
   "source": [
    "We find that the optimal hyperparameters for training are: lr=0.1, batch size=250, and epoch count=50. We can now train an instance of our autoencoder with these hyperparameters."
   ]
  },
  {
   "cell_type": "code",
   "execution_count": 25,
   "id": "934c376f",
   "metadata": {},
   "outputs": [],
   "source": [
    "nn_arch = [{'input_dim': 64, 'output_dim': 16, 'activation': 'sigmoid'}, {'input_dim': 16, 'output_dim': 64, 'activation': 'sigmoid'}]\n",
    "autoencoder = nn.NeuralNetwork(nn_arch=nn_arch, lr=0.1, seed=42, batch_size=250, epochs=50, loss_function='mse')\n",
    "train_test, loss_test = autoencoder.fit(X_train, y_train, X_test, y_test)"
   ]
  },
  {
   "cell_type": "markdown",
   "id": "7132143c",
   "metadata": {},
   "source": [
    "Now we can plot the training and test loss from our trained autoencoder. We find that the training loss reaches a steady-state after <5 epochs, and the validation loss remains steady for all 50 epochs. For other sets of hyperparameters, the minimum training error over n epochs was found to be lower than for this set of hyperparameters, but overfitting led to poor accuracy on the validation set. In this"
   ]
  },
  {
   "cell_type": "code",
   "execution_count": 31,
   "id": "0c4e1503",
   "metadata": {},
   "outputs": [
    {
     "data": {
      "image/png": "[encoded data removed]",
      "text/plain": [
       "<Figure size 432x288 with 1 Axes>"
      ]
     },
     "metadata": {
      "needs_background": "light"
     },
     "output_type": "display_data"
    }
   ],
   "source": [
    "plt.figure()\n",
    "plt.plot(train_test)\n",
    "plt.title('Training loss over 50 epochs')\n",
    "plt.xlabel('epoch')\n",
    "plt.ylabel('training loss')\n",
    "plt.show()"
   ]
  },
  {
   "cell_type": "code",
   "execution_count": 32,
   "id": "77152039",
   "metadata": {},
   "outputs": [
    {
     "data": {
      "image/png": "[encoded data removed]",
      "text/plain": [
       "<Figure size 432x288 with 1 Axes>"
      ]
     },
     "metadata": {
      "needs_background": "light"
     },
     "output_type": "display_data"
    }
   ],
   "source": [
    "plt.figure()\n",
    "plt.plot(loss_test)\n",
    "plt.title('Validation loss over 50 epochs')\n",
    "plt.xlabel('epoch')\n",
    "plt.ylabel('validation loss')\n",
    "plt.show()"
   ]
  },
  {
   "cell_type": "code",
   "execution_count": 35,
   "id": "98d5f3c2",
   "metadata": {},
   "outputs": [
    {
     "name": "stdout",
     "output_type": "stream",
     "text": [
      "average reconstruction error on validation set:  50.935894097222224\n"
     ]
    }
   ],
   "source": [
    "pred = autoencoder.predict(X_test)\n",
    "reconstruction_error = autoencoder._mean_squared_error(pred, X_test)\n",
    "print(\"average reconstruction error on validation set: \", reconstruction_error)"
   ]
  },
  {
   "cell_type": "code",
   "execution_count": null,
   "id": "12b21c3c",
   "metadata": {},
   "outputs": [],
   "source": []
  }
 ],
 "metadata": {
  "kernelspec": {
   "display_name": "Python 3 (ipykernel)",
   "language": "python",
   "name": "python3"
  },
  "language_info": {
   "codemirror_mode": {
    "name": "ipython",
    "version": 3
   },
   "file_extension": ".py",
   "mimetype": "text/x-python",
   "name": "python",
   "nbconvert_exporter": "python",
   "pygments_lexer": "ipython3",
   "version": "3.9.12"
  }
 },
 "nbformat": 4,
 "nbformat_minor": 5
}
