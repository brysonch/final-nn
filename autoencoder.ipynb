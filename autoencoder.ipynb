{
 "cells": [
  {
   "cell_type": "code",
   "execution_count": 1,
   "id": "0b661975",
   "metadata": {},
   "outputs": [],
   "source": [
    "import numpy as np\n",
    "import matplotlib.pyplot as plt\n",
    "from nn import io, nn, preprocess\n",
    "from sklearn.model_selection import train_test_split\n",
    "from sklearn.datasets import load_digits"
   ]
  },
  {
   "cell_type": "code",
   "execution_count": 2,
   "id": "87cb655f",
   "metadata": {},
   "outputs": [],
   "source": [
    "%load_ext autoreload\n",
    "%autoreload 2"
   ]
  },
  {
   "cell_type": "code",
   "execution_count": 35,
   "id": "b59a3eca",
   "metadata": {},
   "outputs": [
    {
     "name": "stdout",
     "output_type": "stream",
     "text": [
      "digit data:  [[ 0.  0.  5. ...  0.  0.  0.]\n",
      " [ 0.  0.  0. ... 10.  0.  0.]\n",
      " [ 0.  0.  0. ... 16.  9.  0.]\n",
      " ...\n",
      " [ 0.  0.  1. ...  6.  0.  0.]\n",
      " [ 0.  0.  2. ... 12.  0.  0.]\n",
      " [ 0.  0. 10. ... 12.  1.  0.]]\n",
      "digit data shape:  (1797, 64)\n"
     ]
    }
   ],
   "source": [
    "digits = load_digits()\n",
    "print(\"digit data: \", digits['data'])"
   ]
  },
  {
   "cell_type": "code",
   "execution_count": 40,
   "id": "b43e6f4b",
   "metadata": {},
   "outputs": [
    {
     "name": "stdout",
     "output_type": "stream",
     "text": [
      "train shape:  (1437, 64)\n",
      "test shape:  (360, 64)\n"
     ]
    }
   ],
   "source": [
    "X_train, X_test, y_train, y_test = train_test_split(digits['data'], digits['target'], test_size=0.2, random_state=0)\n",
    "print(\"train shape: \", X_train.shape)\n",
    "print(\"test shape: \", X_test.shape)"
   ]
  },
  {
   "cell_type": "code",
   "execution_count": 41,
   "id": "eb75a273",
   "metadata": {},
   "outputs": [
    {
     "ename": "TypeError",
     "evalue": "'numpy.float64' object cannot be interpreted as an integer",
     "output_type": "error",
     "traceback": [
      "\u001b[0;31m---------------------------------------------------------------------------\u001b[0m",
      "\u001b[0;31mTypeError\u001b[0m                                 Traceback (most recent call last)",
      "Input \u001b[0;32mIn [41]\u001b[0m, in \u001b[0;36m<cell line: 9>\u001b[0;34m()\u001b[0m\n\u001b[1;32m     11\u001b[0m         \u001b[38;5;28;01mfor\u001b[39;00m epochs \u001b[38;5;129;01min\u001b[39;00m epochss:\n\u001b[1;32m     13\u001b[0m             autoencoder \u001b[38;5;241m=\u001b[39m nn\u001b[38;5;241m.\u001b[39mNeuralNetwork(nn_arch\u001b[38;5;241m=\u001b[39mnn_arch, lr\u001b[38;5;241m=\u001b[39mlr, seed\u001b[38;5;241m=\u001b[39mseed, batch_size\u001b[38;5;241m=\u001b[39mbatch_size, epochs\u001b[38;5;241m=\u001b[39mepochs, loss_function\u001b[38;5;241m=\u001b[39mloss_function)\n\u001b[0;32m---> 14\u001b[0m             _, loss_test \u001b[38;5;241m=\u001b[39m \u001b[43mautoencoder\u001b[49m\u001b[38;5;241;43m.\u001b[39;49m\u001b[43mfit\u001b[49m\u001b[43m(\u001b[49m\u001b[43mX_train\u001b[49m\u001b[43m,\u001b[49m\u001b[43m \u001b[49m\u001b[43my_train\u001b[49m\u001b[43m,\u001b[49m\u001b[43m \u001b[49m\u001b[43mX_test\u001b[49m\u001b[43m,\u001b[49m\u001b[43m \u001b[49m\u001b[43my_test\u001b[49m\u001b[43m)\u001b[49m\n\u001b[1;32m     15\u001b[0m             hyperparams[(\u001b[38;5;124m'\u001b[39m\u001b[38;5;124mlr=\u001b[39m\u001b[38;5;124m'\u001b[39m \u001b[38;5;241m+\u001b[39m \u001b[38;5;28mstr\u001b[39m(lr), \u001b[38;5;124m'\u001b[39m\u001b[38;5;124mbatch size=\u001b[39m\u001b[38;5;124m'\u001b[39m \u001b[38;5;241m+\u001b[39m \u001b[38;5;28mstr\u001b[39m(batch_size), \u001b[38;5;124m'\u001b[39m\u001b[38;5;124mepochs=\u001b[39m\u001b[38;5;124m'\u001b[39m \u001b[38;5;241m+\u001b[39m \u001b[38;5;28mstr\u001b[39m(epochs))] \u001b[38;5;241m=\u001b[39m loss_test[\u001b[38;5;241m-\u001b[39m\u001b[38;5;241m1\u001b[39m]\n\u001b[1;32m     17\u001b[0m \u001b[38;5;28mprint\u001b[39m(\u001b[38;5;124m\"\u001b[39m\u001b[38;5;124moptimal hyperparameters for training are: \u001b[39m\u001b[38;5;124m\"\u001b[39m, \u001b[38;5;28mmin\u001b[39m(hyperparams, key\u001b[38;5;241m=\u001b[39mhyperparams\u001b[38;5;241m.\u001b[39mget))\n",
      "File \u001b[0;32m~/Documents/bmi203/final-nn/nn/nn.py:285\u001b[0m, in \u001b[0;36mNeuralNetwork.fit\u001b[0;34m(self, X_train, y_train, X_val, y_val)\u001b[0m\n\u001b[1;32m    281\u001b[0m per_epoch_loss_val \u001b[38;5;241m=\u001b[39m []\n\u001b[1;32m    283\u001b[0m num_batches \u001b[38;5;241m=\u001b[39m np\u001b[38;5;241m.\u001b[39mceil(X_train\u001b[38;5;241m.\u001b[39mshape[\u001b[38;5;241m0\u001b[39m] \u001b[38;5;241m/\u001b[39m \u001b[38;5;28mself\u001b[39m\u001b[38;5;241m.\u001b[39m_batch_size)\n\u001b[0;32m--> 285\u001b[0m \u001b[38;5;28;01mfor\u001b[39;00m epoch \u001b[38;5;129;01min\u001b[39;00m \u001b[38;5;28;43mrange\u001b[39;49m\u001b[43m(\u001b[49m\u001b[38;5;28;43mself\u001b[39;49m\u001b[38;5;241;43m.\u001b[39;49m\u001b[43m_epochs\u001b[49m\u001b[43m)\u001b[49m:\n\u001b[1;32m    287\u001b[0m     shuffled_idx \u001b[38;5;241m=\u001b[39m np\u001b[38;5;241m.\u001b[39mrandom\u001b[38;5;241m.\u001b[39mpermutation(X_train\u001b[38;5;241m.\u001b[39mshape[\u001b[38;5;241m0\u001b[39m])\n\u001b[1;32m    288\u001b[0m     shuffled_Xtrain \u001b[38;5;241m=\u001b[39m X_train[shuffled_idx]\n",
      "\u001b[0;31mTypeError\u001b[0m: 'numpy.float64' object cannot be interpreted as an integer"
     ]
    }
   ],
   "source": [
    "nn_arch = [{'input_dim': 64, 'output_dim': 16, 'activation': 'relu'}, {'input_dim': 16, 'output_dim': 64, 'activation:': 'relu'}]\n",
    "lrs = np.logspace(-1.0, -5.0, num=5)\n",
    "seed = 42\n",
    "batch_sizes = np.linspace(10, 150, 8)\n",
    "epochss = np.linspace(50, 500, 10)\n",
    "loss_function = 'mse'\n",
    "hyperparams = {}\n",
    "\n",
    "for lr in lrs:\n",
    "    for batch_size in batch_sizes:\n",
    "        for epochs in epochss:\n",
    "            \n",
    "            autoencoder = nn.NeuralNetwork(nn_arch=nn_arch, lr=lr, seed=seed, batch_size=batch_size, epochs=epochs, loss_function=loss_function)\n",
    "            _, loss_test = autoencoder.fit(X_train, y_train, X_test, y_test)\n",
    "            hyperparams[('lr=' + str(lr), 'batch size=' + str(batch_size), 'epochs=' + str(epochs))] = loss_test[-1]\n",
    "\n",
    "print(\"optimal hyperparameters for training are: \", min(hyperparams, key=hyperparams.get))\n"
   ]
  },
  {
   "cell_type": "code",
   "execution_count": 11,
   "id": "fe4e8418",
   "metadata": {},
   "outputs": [],
   "source": [
    "nn_arch = [{'input_dim': 8, 'output_dim': 4, 'activation': 'relu'}, {'input_dim': 4, 'output_dim': 2, 'activation:': 'sigmoid'}]\n",
    "lr = 0.1\n",
    "seed = 42\n",
    "batch_size = 10\n",
    "epochs = 100\n",
    "loss_function_mse = 'mse' \n",
    "loss_function_bce = 'bce'\n",
    "\n",
    "nn_test = nn.NeuralNetwork(nn_arch=nn_arch, lr=lr, seed=seed, batch_size=batch_size, epochs=epochs, loss_function=loss_function_mse)"
   ]
  },
  {
   "cell_type": "code",
   "execution_count": 22,
   "id": "a4225fab",
   "metadata": {},
   "outputs": [
    {
     "data": {
      "text/plain": [
       "array([[-0.1478522 ],\n",
       "       [-0.07198442]])"
      ]
     },
     "execution_count": 22,
     "metadata": {},
     "output_type": "execute_result"
    }
   ],
   "source": [
    "nn_test._param_dict['b2']"
   ]
  },
  {
   "cell_type": "code",
   "execution_count": 23,
   "id": "21c32bd1",
   "metadata": {},
   "outputs": [],
   "source": [
    "a, z = nn_test._single_forward(nn_test._param_dict['W2'], nn_test._param_dict['b2'], np.random.randint(2, size=len(nn_test._param_dict['W1'])), nn_arch[0]['activation'])\n"
   ]
  },
  {
   "cell_type": "code",
   "execution_count": 24,
   "id": "59146d8b",
   "metadata": {},
   "outputs": [
    {
     "data": {
      "text/plain": [
       "array([[-0., -0.]])"
      ]
     },
     "execution_count": 24,
     "metadata": {},
     "output_type": "execute_result"
    }
   ],
   "source": [
    "a"
   ]
  },
  {
   "cell_type": "code",
   "execution_count": 25,
   "id": "195efb24",
   "metadata": {},
   "outputs": [
    {
     "data": {
      "text/plain": [
       "array([[-0.1478522 , -0.07198442]])"
      ]
     },
     "execution_count": 25,
     "metadata": {},
     "output_type": "execute_result"
    }
   ],
   "source": [
    "z"
   ]
  },
  {
   "cell_type": "code",
   "execution_count": null,
   "id": "fbcb8739",
   "metadata": {},
   "outputs": [],
   "source": []
  }
 ],
 "metadata": {
  "kernelspec": {
   "display_name": "Python 3 (ipykernel)",
   "language": "python",
   "name": "python3"
  },
  "language_info": {
   "codemirror_mode": {
    "name": "ipython",
    "version": 3
   },
   "file_extension": ".py",
   "mimetype": "text/x-python",
   "name": "python",
   "nbconvert_exporter": "python",
   "pygments_lexer": "ipython3",
   "version": "3.9.12"
  }
 },
 "nbformat": 4,
 "nbformat_minor": 5
}
