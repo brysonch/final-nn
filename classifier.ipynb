{
 "cells": [
  {
   "cell_type": "markdown",
   "id": "22df5a5e",
   "metadata": {},
   "source": [
    "Here we train and test a binary classifier on Rap1 TF motif data. We first import the necessary packages."
   ]
  },
  {
   "cell_type": "code",
   "execution_count": 1,
   "id": "89ad2a32",
   "metadata": {},
   "outputs": [],
   "source": [
    "import numpy as np\n",
    "import matplotlib.pyplot as plt\n",
    "from nn import io, nn, preprocess\n",
    "from sklearn.model_selection import train_test_split"
   ]
  },
  {
   "cell_type": "markdown",
   "id": "162a393a",
   "metadata": {},
   "source": [
    "Here we add commands to autoreload the imported packages, including changes to nn."
   ]
  },
  {
   "cell_type": "code",
   "execution_count": 2,
   "id": "94ee228b",
   "metadata": {},
   "outputs": [],
   "source": [
    "%load_ext autoreload\n",
    "%autoreload 2"
   ]
  },
  {
   "cell_type": "markdown",
   "id": "1709f148",
   "metadata": {},
   "source": [
    "Here we load the sequence data from the positive and negative examples of the Rap1 TF motifs."
   ]
  },
  {
   "cell_type": "code",
   "execution_count": 3,
   "id": "896ec186",
   "metadata": {},
   "outputs": [],
   "source": [
    "pos = io.read_text_file(\"data/rap1-lieb-positives.txt\")\n",
    "neg = io.read_fasta_file(\"data/yeast-upstream-1k-negative.fa\")"
   ]
  },
  {
   "cell_type": "markdown",
   "id": "e9cee188",
   "metadata": {},
   "source": [
    "We must now trim our negative examples, which are longer sequences than our positive examples, to be the same length as input for our neural network."
   ]
  },
  {
   "cell_type": "code",
   "execution_count": 4,
   "id": "a40a9a74",
   "metadata": {},
   "outputs": [],
   "source": [
    "trimmed_neg = []\n",
    "for s in neg:\n",
    "    trimmed_neg.append(s[0:len(max(pos, key=len))])"
   ]
  },
  {
   "cell_type": "markdown",
   "id": "2c742f3f",
   "metadata": {},
   "source": [
    "We now upsample our positive class to be the same size as our negative class dataset, then one-hot-encode our sampled sequences."
   ]
  },
  {
   "cell_type": "code",
   "execution_count": 5,
   "id": "418bc3d3",
   "metadata": {},
   "outputs": [],
   "source": [
    "labels = [1] * len(pos) + [0] * len(trimmed_neg)\n",
    "sampled_seqs, sampled_labels = preprocess.sample_seqs(pos + trimmed_neg, labels)\n",
    "encoded_seqs = preprocess.one_hot_encode_seqs(sampled_seqs)"
   ]
  },
  {
   "cell_type": "code",
   "execution_count": null,
   "id": "95ad9493",
   "metadata": {},
   "outputs": [],
   "source": [
    "We can then do a train/test split of the sequence data 0.8/0.2."
   ]
  },
  {
   "cell_type": "code",
   "execution_count": 6,
   "id": "8735432c",
   "metadata": {},
   "outputs": [
    {
     "name": "stdout",
     "output_type": "stream",
     "text": [
      "train shape:  (5060, 68)\n",
      "test shape:  (1266, 68)\n",
      "ytrain shape:  (5060,)\n",
      "ytest shape:  (1266,)\n"
     ]
    }
   ],
   "source": [
    "encoded_seqs = np.array(encoded_seqs)\n",
    "sampled_labels = np.array(sampled_labels)\n",
    "X_train, X_test, y_train, y_test = train_test_split(encoded_seqs, sampled_labels, test_size=0.2, random_state=1)\n",
    "print(\"train shape: \", X_train.shape)\n",
    "print(\"test shape: \", X_test.shape)\n",
    "print(\"ytrain shape: \", y_train.shape)\n",
    "print(\"ytest shape: \", y_test.shape)"
   ]
  },
  {
   "cell_type": "markdown",
   "id": "5b53b868",
   "metadata": {},
   "source": [
    "Now we can train a 68x16x68 instance of our neural network with a grid search of hyperparameters (dimensions adjusted based on the size of the input data). We vary the learning rate, batch size, and epoch count for training. We use BCE instead of MSE as the data labels are binary. We also used the relu activation function, as this performed better than the relu function."
   ]
  },
  {
   "cell_type": "code",
   "execution_count": 17,
   "id": "0d5dd7d3",
   "metadata": {},
   "outputs": [
    {
     "name": "stdout",
     "output_type": "stream",
     "text": [
      "training with the following hyperparameters:  lr=0.1 batch=50 epochs=50\n",
      "training with the following hyperparameters:  lr=0.1 batch=50 epochs=100\n",
      "training with the following hyperparameters:  lr=0.1 batch=100 epochs=50\n",
      "training with the following hyperparameters:  lr=0.1 batch=100 epochs=100\n",
      "training with the following hyperparameters:  lr=0.01 batch=50 epochs=50\n",
      "training with the following hyperparameters:  lr=0.01 batch=50 epochs=100\n",
      "training with the following hyperparameters:  lr=0.01 batch=100 epochs=50\n",
      "training with the following hyperparameters:  lr=0.01 batch=100 epochs=100\n",
      "optimal hyperparameters for training are:  ('lr=0.1', 'batch size=50', 'epochs=50')\n"
     ]
    }
   ],
   "source": [
    "nn_arch = [{'input_dim': 68, 'output_dim': 16, 'activation': 'relu'}, {'input_dim': 16, 'output_dim': 68, 'activation': 'relu'}]\n",
    "lrs = np.logspace(-1.0, -2.0, num=2)\n",
    "seed = 42\n",
    "batch_sizes = np.array([50, 100])\n",
    "epochss = np.array([50, 100])\n",
    "loss_function = 'bce'\n",
    "hyperparams = {}\n",
    "\n",
    "for lr in lrs:\n",
    "    for batch_size in batch_sizes:\n",
    "        for epochs in epochss:\n",
    "            print(\"training with the following hyperparameters: \", \"lr=\" + str(lr) + \" \" + \"batch=\" + str(batch_size) + \" \" + \"epochs=\" + str(epochs))\n",
    "            classifier = nn.NeuralNetwork(nn_arch=nn_arch, lr=lr, seed=seed, batch_size=batch_size, epochs=epochs, loss_function=loss_function)\n",
    "            _, loss_test = classifier.fit(X_train, y_train, X_test, y_test)\n",
    "            hyperparams[('lr=' + str(lr), 'batch size=' + str(batch_size), 'epochs=' + str(epochs))] = loss_test[-1]\n",
    "\n",
    "print(\"optimal hyperparameters for training are: \", min(hyperparams, key=hyperparams.get))\n"
   ]
  },
  {
   "cell_type": "markdown",
   "id": "26a8fcfb",
   "metadata": {},
   "source": [
    "We find that the optimal hyperparameters for training are: lr=0.1, batch size=50, and epoch count=50. We can now train an instance of our neural network with these hyperparameters."
   ]
  },
  {
   "cell_type": "code",
   "execution_count": 18,
   "id": "26d06b48",
   "metadata": {},
   "outputs": [],
   "source": [
    "nn_arch = [{'input_dim': 68, 'output_dim': 16, 'activation': 'relu'}, {'input_dim': 16, 'output_dim': 68, 'activation': 'relu'}]\n",
    "trained_classifier = nn.NeuralNetwork(nn_arch=nn_arch, lr=0.1, seed=42, batch_size=50, epochs=50, loss_function='mse')\n",
    "train_test, loss_test = trained_classifier.fit(X_train, y_train, X_test, y_test)"
   ]
  },
  {
   "cell_type": "markdown",
   "id": "642c3802",
   "metadata": {},
   "source": [
    "Now we can plot the training and test loss from our trained neural network. We find that the training loss reaches a steady-state after <5 epochs, and the validation loss fluctuates from 7 to 10.5 over 50 epochs. It appears that the trained neural network still has less than optimal performance on the validation set, as the validation accuracy does not reach a steady state. This suggests that the model may be overfitting on the training data even with optimal hyperparameters, and perhaps regularization is needed (cross-validation). "
   ]
  },
  {
   "cell_type": "code",
   "execution_count": 19,
   "id": "a8a7bd7c",
   "metadata": {},
   "outputs": [
    {
     "data": {
      "image/png": "[encoded data removed]",
      "text/plain": [
       "<Figure size 432x288 with 1 Axes>"
      ]
     },
     "metadata": {
      "needs_background": "light"
     },
     "output_type": "display_data"
    }
   ],
   "source": [
    "plt.figure()\n",
    "plt.plot(train_test)\n",
    "plt.title('Training loss over 50 epochs')\n",
    "plt.xlabel('epoch')\n",
    "plt.ylabel('training loss')\n",
    "plt.show()"
   ]
  },
  {
   "cell_type": "code",
   "execution_count": 21,
   "id": "033e6db6",
   "metadata": {},
   "outputs": [
    {
     "data": {
      "image/png": "[encoded data removed]",
      "text/plain": [
       "<Figure size 432x288 with 1 Axes>"
      ]
     },
     "metadata": {
      "needs_background": "light"
     },
     "output_type": "display_data"
    }
   ],
   "source": [
    "plt.figure()\n",
    "plt.plot(loss_test)\n",
    "plt.title('Validation loss over 50 epochs')\n",
    "plt.xlabel('epoch')\n",
    "plt.ylabel('validation loss')\n",
    "plt.show()"
   ]
  },
  {
   "cell_type": "markdown",
   "id": "aee6b320",
   "metadata": {},
   "source": [
    "We can now calculate the average reconstruction error on the predictions from the model on the test set."
   ]
  },
  {
   "cell_type": "code",
   "execution_count": 22,
   "id": "7ea037bd",
   "metadata": {},
   "outputs": [
    {
     "name": "stdout",
     "output_type": "stream",
     "text": [
      "average reconstruction error on validation set:  7.193156319115972\n"
     ]
    }
   ],
   "source": [
    "pred = trained_classifier.predict(X_test)\n",
    "reconstruction_error = trained_classifier._mean_squared_error(pred, X_test)\n",
    "print(\"average reconstruction error on validation set: \", reconstruction_error)"
   ]
  }
 ],
 "metadata": {
  "kernelspec": {
   "display_name": "Python 3 (ipykernel)",
   "language": "python",
   "name": "python3"
  },
  "language_info": {
   "codemirror_mode": {
    "name": "ipython",
    "version": 3
   },
   "file_extension": ".py",
   "mimetype": "text/x-python",
   "name": "python",
   "nbconvert_exporter": "python",
   "pygments_lexer": "ipython3",
   "version": "3.9.12"
  }
 },
 "nbformat": 4,
 "nbformat_minor": 5
}
