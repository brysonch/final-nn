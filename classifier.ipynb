{
 "cells": [
  {
   "cell_type": "code",
   "execution_count": 1,
   "id": "c61aaac1",
   "metadata": {},
   "outputs": [],
   "source": [
    "import numpy as np\n",
    "import matplotlib.pyplot as plt\n",
    "from nn import io, nn, preprocess\n",
    "from sklearn.model_selection import train_test_split"
   ]
  },
  {
   "cell_type": "code",
   "execution_count": 2,
   "id": "ccf222a5",
   "metadata": {},
   "outputs": [],
   "source": [
    "%load_ext autoreload\n",
    "%autoreload 2"
   ]
  },
  {
   "cell_type": "code",
   "execution_count": 3,
   "id": "3cbd15dc",
   "metadata": {},
   "outputs": [],
   "source": [
    "pos = io.read_text_file(\"data/rap1-lieb-positives.txt\")\n",
    "neg = io.read_fasta_file(\"data/yeast-upstream-1k-negative.fa\")"
   ]
  },
  {
   "cell_type": "code",
   "execution_count": null,
   "id": "7840a6af",
   "metadata": {},
   "outputs": [],
   "source": [
    "preprocess."
   ]
  },
  {
   "cell_type": "code",
   "execution_count": 8,
   "id": "0f175b17",
   "metadata": {},
   "outputs": [],
   "source": [
    "labels = [0,1,1,0]\n",
    "neg_ind = [i for i, b in enumerate(labels) if b == 0]"
   ]
  },
  {
   "cell_type": "code",
   "execution_count": 14,
   "id": "b157d678",
   "metadata": {},
   "outputs": [],
   "source": [
    "seqs = ['AGCT', 'CTTT', 'GGAA', 'GTTG']"
   ]
  },
  {
   "cell_type": "code",
   "execution_count": 38,
   "id": "18a497bc",
   "metadata": {},
   "outputs": [],
   "source": [
    "import random\n",
    "from random import choices"
   ]
  },
  {
   "cell_type": "code",
   "execution_count": 31,
   "id": "b6d71624",
   "metadata": {},
   "outputs": [],
   "source": [
    "x = choices(seqs, k=4)"
   ]
  },
  {
   "cell_type": "code",
   "execution_count": 35,
   "id": "fcdcd2c0",
   "metadata": {},
   "outputs": [],
   "source": [
    "num_neg = 5"
   ]
  },
  {
   "cell_type": "code",
   "execution_count": 36,
   "id": "c27b4038",
   "metadata": {},
   "outputs": [
    {
     "data": {
      "text/plain": [
       "[1, 1, 1, 1, 1, 0, 0, 0, 0, 0]"
      ]
     },
     "execution_count": 36,
     "metadata": {},
     "output_type": "execute_result"
    }
   ],
   "source": [
    "[1] * num_neg + [0] * num_neg"
   ]
  },
  {
   "cell_type": "code",
   "execution_count": 43,
   "id": "29403469",
   "metadata": {},
   "outputs": [],
   "source": [
    "c = list(zip(x, labels))\n",
    "\n",
    "random.shuffle(c)\n",
    "\n",
    "a, b = zip(*c)"
   ]
  },
  {
   "cell_type": "code",
   "execution_count": 44,
   "id": "7408b68b",
   "metadata": {},
   "outputs": [
    {
     "data": {
      "text/plain": [
       "[('GTTG', 1), ('GGAA', 0), ('GTTG', 1), ('AGCT', 0)]"
      ]
     },
     "execution_count": 44,
     "metadata": {},
     "output_type": "execute_result"
    }
   ],
   "source": [
    "c"
   ]
  },
  {
   "cell_type": "code",
   "execution_count": 45,
   "id": "78bad10d",
   "metadata": {},
   "outputs": [
    {
     "data": {
      "text/plain": [
       "('GTTG', 'GGAA', 'GTTG', 'AGCT')"
      ]
     },
     "execution_count": 45,
     "metadata": {},
     "output_type": "execute_result"
    }
   ],
   "source": [
    "a"
   ]
  },
  {
   "cell_type": "code",
   "execution_count": 46,
   "id": "1ebda7e5",
   "metadata": {},
   "outputs": [
    {
     "data": {
      "text/plain": [
       "(1, 0, 1, 0)"
      ]
     },
     "execution_count": 46,
     "metadata": {},
     "output_type": "execute_result"
    }
   ],
   "source": [
    "b"
   ]
  },
  {
   "cell_type": "code",
   "execution_count": 51,
   "id": "d9bac52d",
   "metadata": {},
   "outputs": [],
   "source": [
    "test_seq = ['AGTACAGAT', 'GCAGTCCGG', 'TTAGATTGC', 'GATCGGATC', 'ATCGTGTCA', 'CGGACTATT']\n",
    "test_label = [1, 0, 0, 1, 0, 0]\n",
    "a,b = preprocess.sample_seqs(test_seq, test_label)"
   ]
  },
  {
   "cell_type": "code",
   "execution_count": 79,
   "id": "8a6fcc17",
   "metadata": {},
   "outputs": [
    {
     "name": "stdout",
     "output_type": "stream",
     "text": [
      "True\n",
      "True\n",
      "True\n",
      "True\n",
      "True\n",
      "True\n",
      "True\n",
      "True\n"
     ]
    }
   ],
   "source": [
    "d = {}\n",
    "for idx, s in enumerate(test_seq):\n",
    "    d[s] = test_label[idx]\n",
    "\n",
    "for j in a:\n",
    "    print(j in d)"
   ]
  },
  {
   "cell_type": "code",
   "execution_count": 68,
   "id": "02373feb",
   "metadata": {},
   "outputs": [
    {
     "data": {
      "text/plain": [
       "{'AGTACAGAT': 1,\n",
       " 'GCAGTCCGG': 0,\n",
       " 'TTAGATTGC': 0,\n",
       " 'GATCGGATC': 1,\n",
       " 'ATCGTGTCA': 0,\n",
       " 'CGGACTATT': 0}"
      ]
     },
     "execution_count": 68,
     "metadata": {},
     "output_type": "execute_result"
    }
   ],
   "source": [
    "d"
   ]
  },
  {
   "cell_type": "code",
   "execution_count": null,
   "id": "5638e0a1",
   "metadata": {},
   "outputs": [],
   "source": []
  }
 ],
 "metadata": {
  "kernelspec": {
   "display_name": "Python 3 (ipykernel)",
   "language": "python",
   "name": "python3"
  },
  "language_info": {
   "codemirror_mode": {
    "name": "ipython",
    "version": 3
   },
   "file_extension": ".py",
   "mimetype": "text/x-python",
   "name": "python",
   "nbconvert_exporter": "python",
   "pygments_lexer": "ipython3",
   "version": "3.9.12"
  }
 },
 "nbformat": 4,
 "nbformat_minor": 5
}
